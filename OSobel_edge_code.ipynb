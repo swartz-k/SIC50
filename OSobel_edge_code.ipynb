{
 "cells": [
  {
   "cell_type": "code",
   "execution_count": 1,
   "id": "113e60dc",
   "metadata": {},
   "outputs": [],
   "source": [
    "%matplotlib inline\n",
    "\n",
    "import numpy as np\n",
    "import matplotlib.pyplot as plt\n",
    "import matplotlib.image as mpimg\n",
    "import os"
   ]
  },
  {
   "cell_type": "code",
   "execution_count": 2,
   "id": "df0d8510",
   "metadata": {},
   "outputs": [],
   "source": [
    "#8bit png dirctory\n",
    "RAW_PNG_DIR = ('E:\\\\raw')"
   ]
  },
  {
   "cell_type": "code",
   "execution_count": 3,
   "id": "d1e7086b",
   "metadata": {},
   "outputs": [],
   "source": [
    "#find edge png save dirctory\n",
    "EDGE_PNG_SAVE_DIR = ('E:\\\\OSobel')"
   ]
  },
  {
   "cell_type": "code",
   "execution_count": 4,
   "id": "8e5900f9",
   "metadata": {},
   "outputs": [],
   "source": [
    "def prepend(list, str):\n",
    "    str += '{0}'\n",
    "    list = [str.format(i) for i in list]\n",
    "    return(list)\n",
    "\n",
    "png_files = os.listdir(RAW_PNG_DIR)\n",
    "png_prepend = RAW_PNG_DIR+\"\\\\\"\n",
    "png_dir = prepend(png_files,png_prepend)\n",
    "\n",
    "#print(\"png_files\", png_files[0])\n",
    "#print(\"png_dir\", png_dir[0])"
   ]
  },
  {
   "cell_type": "code",
   "execution_count": 5,
   "id": "5707dd75",
   "metadata": {},
   "outputs": [],
   "source": [
    "vertical_filter = [[-1,-2,-1], [0,0,0], [1,2,1]]\n",
    "horizontal_filter = [[-1,0,1], [-2,0,2], [-1,0,1]]\n",
    "file_count = 0"
   ]
  },
  {
   "cell_type": "code",
   "execution_count": 6,
   "id": "f8cba023",
   "metadata": {
    "scrolled": true
   },
   "outputs": [
    {
     "name": "stdout",
     "output_type": "stream",
     "text": [
      "1 / 60\n",
      "2 / 60\n",
      "3 / 60\n",
      "4 / 60\n",
      "5 / 60\n",
      "6 / 60\n",
      "7 / 60\n",
      "8 / 60\n",
      "9 / 60\n",
      "10 / 60\n",
      "11 / 60\n",
      "12 / 60\n",
      "13 / 60\n",
      "14 / 60\n",
      "15 / 60\n",
      "16 / 60\n",
      "17 / 60\n",
      "18 / 60\n",
      "19 / 60\n",
      "20 / 60\n",
      "21 / 60\n",
      "22 / 60\n",
      "23 / 60\n",
      "24 / 60\n",
      "25 / 60\n",
      "26 / 60\n",
      "27 / 60\n",
      "28 / 60\n",
      "29 / 60\n",
      "30 / 60\n",
      "31 / 60\n",
      "32 / 60\n",
      "33 / 60\n",
      "34 / 60\n",
      "35 / 60\n",
      "36 / 60\n",
      "37 / 60\n",
      "38 / 60\n",
      "39 / 60\n",
      "40 / 60\n",
      "41 / 60\n",
      "42 / 60\n",
      "43 / 60\n",
      "44 / 60\n",
      "45 / 60\n",
      "46 / 60\n",
      "47 / 60\n",
      "48 / 60\n",
      "49 / 60\n",
      "50 / 60\n",
      "51 / 60\n",
      "52 / 60\n",
      "53 / 60\n",
      "54 / 60\n",
      "55 / 60\n",
      "56 / 60\n",
      "57 / 60\n",
      "58 / 60\n",
      "59 / 60\n",
      "60 / 60\n",
      "Done\n"
     ]
    }
   ],
   "source": [
    "for i in png_dir:\n",
    "    img = mpimg.imread(i)\n",
    "    n,m = img.shape\n",
    "    edges_img = np.zeros_like(img)\n",
    "        \n",
    "    for row in range(3,n-2):\n",
    "        for col in range(3,m-2):\n",
    "            local_pixels = img[row-1:row+2, col-1:col+2]\n",
    "        \n",
    "            vertical_transformed_pixels = vertical_filter*local_pixels\n",
    "            vertical_score = vertical_transformed_pixels.sum()\n",
    "        \n",
    "            horizontal_transformed_pixels = horizontal_filter*local_pixels\n",
    "            horizontal_score = horizontal_transformed_pixels.sum()\n",
    "        \n",
    "            edge_score = (vertical_score**2 + horizontal_score**2)**.5\n",
    "            #print(\"edge score\",(edge_score)*2)\n",
    "            #print(\"edge row col\",edges_img[row,col] )\n",
    "            \n",
    "            edge_score = (edge_score)**0.8\n",
    "            \n",
    "            if edge_score >= 0.2:\n",
    "                edge_score=edge_score**0.6\n",
    "                \n",
    "            edges_img[row,col]= edge_score\n",
    "            \n",
    "    plt.imsave(EDGE_PNG_SAVE_DIR + \"\\\\edge_\" + png_files[file_count], edges_img, cmap = 'gray')\n",
    "    file_count = file_count+1\n",
    "    print(file_count, \"/\", len(png_dir))\n",
    "print(\"Done\")"
   ]
  },
  {
   "cell_type": "code",
   "execution_count": null,
   "id": "8f56fa8d",
   "metadata": {},
   "outputs": [],
   "source": []
  }
 ],
 "metadata": {
  "kernelspec": {
   "display_name": "Python 3.9.13 64-bit",
   "language": "python",
   "name": "python3"
  },
  "language_info": {
   "codemirror_mode": {
    "name": "ipython",
    "version": 3
   },
   "file_extension": ".py",
   "mimetype": "text/x-python",
   "name": "python",
   "nbconvert_exporter": "python",
   "pygments_lexer": "ipython3",
   "version": "3.9.13"
  },
  "vscode": {
   "interpreter": {
    "hash": "aee8b7b246df8f9039afb4144a1f6fd8d2ca17a180786b69acc140d282b71a49"
   }
  }
 },
 "nbformat": 4,
 "nbformat_minor": 5
}
