{
 "cells": [
  {
   "cell_type": "code",
   "execution_count": 1,
   "id": "2a5e91fb",
   "metadata": {},
   "outputs": [
    {
     "name": "stderr",
     "output_type": "stream",
     "text": [
      "C:\\Users\\lenovo-pc\\anaconda3\\lib\\site-packages\\scipy\\__init__.py:146: UserWarning: A NumPy version >=1.16.5 and <1.23.0 is required for this version of SciPy (detected version 1.23.1\n",
      "  warnings.warn(f\"A NumPy version >={np_minversion} and <{np_maxversion}\"\n"
     ]
    }
   ],
   "source": [
    "import tensorflow as tf\n",
    "import keras_preprocessing\n",
    "from keras_preprocessing import image\n",
    "from keras_preprocessing.image import ImageDataGenerator\n",
    "\n",
    "TRAINING_DIR = ('D:\\\\train')\n",
    "training_datagen = ImageDataGenerator(\n",
    "      rescale = 1./255,\n",
    "\t    rotation_range=40,\n",
    "      width_shift_range=0.2,\n",
    "      height_shift_range=0.2,\n",
    "      shear_range=0.2,\n",
    "      zoom_range=0.2,\n",
    "      horizontal_flip=True,\n",
    "      fill_mode='nearest')"
   ]
  },
  {
   "cell_type": "code",
   "execution_count": 2,
   "id": "57d09948",
   "metadata": {},
   "outputs": [],
   "source": [
    "VALIDATION_DIR = ('D:\\\\test')\n",
    "validation_datagen = ImageDataGenerator(rescale = 1./255)"
   ]
  },
  {
   "cell_type": "code",
   "execution_count": 3,
   "id": "cb8d9019",
   "metadata": {},
   "outputs": [
    {
     "name": "stdout",
     "output_type": "stream",
     "text": [
      "Found 3600 images belonging to 2 classes.\n"
     ]
    }
   ],
   "source": [
    "train_generator = training_datagen.flow_from_directory(\n",
    "\tTRAINING_DIR,\n",
    "\ttarget_size=(198,198),\n",
    "\tclass_mode='categorical',\n",
    "  batch_size=2\n",
    ")"
   ]
  },
  {
   "cell_type": "code",
   "execution_count": 4,
   "id": "a3483d5b",
   "metadata": {},
   "outputs": [
    {
     "name": "stdout",
     "output_type": "stream",
     "text": [
      "Found 400 images belonging to 2 classes.\n"
     ]
    }
   ],
   "source": [
    "validation_generator = validation_datagen.flow_from_directory(\n",
    "\tVALIDATION_DIR,\n",
    "\ttarget_size=(198,198),\n",
    "\tclass_mode='categorical',\n",
    "  batch_size=2\n",
    ")"
   ]
  },
  {
   "cell_type": "code",
   "execution_count": 5,
   "id": "34c674ff",
   "metadata": {
    "scrolled": true
   },
   "outputs": [
    {
     "name": "stdout",
     "output_type": "stream",
     "text": [
      "Model: \"sequential\"\n",
      "_________________________________________________________________\n",
      " Layer (type)                Output Shape              Param #   \n",
      "=================================================================\n",
      " conv2d (Conv2D)             (None, 196, 196, 64)      1792      \n",
      "                                                                 \n",
      " max_pooling2d (MaxPooling2D  (None, 98, 98, 64)       0         \n",
      " )                                                               \n",
      "                                                                 \n",
      " conv2d_1 (Conv2D)           (None, 96, 96, 64)        36928     \n",
      "                                                                 \n",
      " max_pooling2d_1 (MaxPooling  (None, 48, 48, 64)       0         \n",
      " 2D)                                                             \n",
      "                                                                 \n",
      " conv2d_2 (Conv2D)           (None, 46, 46, 128)       73856     \n",
      "                                                                 \n",
      " max_pooling2d_2 (MaxPooling  (None, 23, 23, 128)      0         \n",
      " 2D)                                                             \n",
      "                                                                 \n",
      " conv2d_3 (Conv2D)           (None, 21, 21, 128)       147584    \n",
      "                                                                 \n",
      " max_pooling2d_3 (MaxPooling  (None, 10, 10, 128)      0         \n",
      " 2D)                                                             \n",
      "                                                                 \n",
      " flatten (Flatten)           (None, 12800)             0         \n",
      "                                                                 \n",
      " dropout (Dropout)           (None, 12800)             0         \n",
      "                                                                 \n",
      " dense (Dense)               (None, 512)               6554112   \n",
      "                                                                 \n",
      " dense_1 (Dense)             (None, 2)                 1026      \n",
      "                                                                 \n",
      "=================================================================\n",
      "Total params: 6,815,298\n",
      "Trainable params: 6,815,298\n",
      "Non-trainable params: 0\n",
      "_________________________________________________________________\n"
     ]
    }
   ],
   "source": [
    "model = tf.keras.models.Sequential([\n",
    "    # Note the input shape is the desired size of the image 150x150 with 3 bytes color\n",
    "    # This is the first convolution\n",
    "    tf.keras.layers.Conv2D(64, (3,3), activation='relu', input_shape=(198, 198, 3)),\n",
    "    tf.keras.layers.MaxPooling2D(2, 2),\n",
    "    # The second convolution\n",
    "    tf.keras.layers.Conv2D(64, (3,3), activation='relu'),\n",
    "    tf.keras.layers.MaxPooling2D(2,2),\n",
    "    # The third convolution\n",
    "    tf.keras.layers.Conv2D(128, (3,3), activation='relu'),\n",
    "    tf.keras.layers.MaxPooling2D(2,2),\n",
    "    # The fourth convolution\n",
    "    tf.keras.layers.Conv2D(128, (3,3), activation='relu'),\n",
    "    tf.keras.layers.MaxPooling2D(2,2),\n",
    "    # Flatten the results to feed into a DNN\n",
    "    tf.keras.layers.Flatten(),\n",
    "    tf.keras.layers.Dropout(0.5),\n",
    "    # 512 neuron hidden layer\n",
    "    tf.keras.layers.Dense(512, activation='relu'),\n",
    "    tf.keras.layers.Dense(2, activation='softmax')\n",
    "])\n",
    "\n",
    "\n",
    "model.summary()"
   ]
  },
  {
   "cell_type": "code",
   "execution_count": 6,
   "id": "3cc4e7db",
   "metadata": {},
   "outputs": [],
   "source": [
    "model.compile(loss = 'categorical_crossentropy', optimizer='rmsprop', metrics=['accuracy'])\n"
   ]
  },
  {
   "cell_type": "code",
   "execution_count": 7,
   "id": "7ce84cda",
   "metadata": {
    "scrolled": true
   },
   "outputs": [
    {
     "name": "stdout",
     "output_type": "stream",
     "text": [
      "Epoch 1/50\n",
      "30/30 [==============================] - 7s 211ms/step - loss: 0.9373 - accuracy: 0.5167 - val_loss: 0.7444 - val_accuracy: 0.5000\n",
      "Epoch 2/50\n",
      "30/30 [==============================] - 6s 211ms/step - loss: 0.7136 - accuracy: 0.5333 - val_loss: 0.7350 - val_accuracy: 0.3333\n",
      "Epoch 3/50\n",
      "30/30 [==============================] - 6s 213ms/step - loss: 0.7055 - accuracy: 0.5167 - val_loss: 0.5754 - val_accuracy: 0.8333\n",
      "Epoch 4/50\n",
      "30/30 [==============================] - 6s 205ms/step - loss: 0.5829 - accuracy: 0.8167 - val_loss: 0.6733 - val_accuracy: 0.6667\n",
      "Epoch 5/50\n",
      "30/30 [==============================] - 7s 220ms/step - loss: 0.4855 - accuracy: 0.7500 - val_loss: 1.2008 - val_accuracy: 0.5000\n",
      "Epoch 6/50\n",
      "30/30 [==============================] - 6s 208ms/step - loss: 0.4409 - accuracy: 0.8833 - val_loss: 0.9685 - val_accuracy: 0.8333\n",
      "Epoch 7/50\n",
      "30/30 [==============================] - 6s 208ms/step - loss: 0.4507 - accuracy: 0.8500 - val_loss: 0.4619 - val_accuracy: 0.8333\n",
      "Epoch 8/50\n",
      "30/30 [==============================] - 6s 209ms/step - loss: 0.4660 - accuracy: 0.8667 - val_loss: 0.6893 - val_accuracy: 0.5000\n",
      "Epoch 9/50\n",
      "30/30 [==============================] - 6s 201ms/step - loss: 0.4190 - accuracy: 0.8500 - val_loss: 0.7775 - val_accuracy: 0.5000\n",
      "Epoch 10/50\n",
      "30/30 [==============================] - 6s 212ms/step - loss: 0.3494 - accuracy: 0.8667 - val_loss: 1.0028 - val_accuracy: 0.6667\n",
      "Epoch 11/50\n",
      "30/30 [==============================] - 6s 202ms/step - loss: 0.4107 - accuracy: 0.8000 - val_loss: 0.4802 - val_accuracy: 0.8333\n",
      "Epoch 12/50\n",
      "30/30 [==============================] - 6s 207ms/step - loss: 0.4028 - accuracy: 0.7667 - val_loss: 0.4096 - val_accuracy: 0.8333\n",
      "Epoch 13/50\n",
      "30/30 [==============================] - 6s 211ms/step - loss: 0.3425 - accuracy: 0.9000 - val_loss: 0.5824 - val_accuracy: 0.5000\n",
      "Epoch 14/50\n",
      "30/30 [==============================] - 6s 201ms/step - loss: 0.6743 - accuracy: 0.7167 - val_loss: 0.4863 - val_accuracy: 0.8333\n",
      "Epoch 15/50\n",
      "30/30 [==============================] - 6s 210ms/step - loss: 0.4634 - accuracy: 0.8000 - val_loss: 0.4661 - val_accuracy: 0.8333\n",
      "Epoch 16/50\n",
      "30/30 [==============================] - 6s 207ms/step - loss: 0.3391 - accuracy: 0.7833 - val_loss: 0.4207 - val_accuracy: 0.8333\n",
      "Epoch 17/50\n",
      "30/30 [==============================] - 6s 204ms/step - loss: 0.2256 - accuracy: 0.8500 - val_loss: 2.1500 - val_accuracy: 0.5000\n",
      "Epoch 18/50\n",
      "30/30 [==============================] - 6s 213ms/step - loss: 0.2581 - accuracy: 0.8833 - val_loss: 0.3620 - val_accuracy: 0.8333\n",
      "Epoch 19/50\n",
      "30/30 [==============================] - 6s 201ms/step - loss: 0.2727 - accuracy: 0.9167 - val_loss: 0.6508 - val_accuracy: 0.5000\n",
      "Epoch 20/50\n",
      "30/30 [==============================] - 7s 228ms/step - loss: 0.3737 - accuracy: 0.8167 - val_loss: 0.4728 - val_accuracy: 0.8333\n",
      "Epoch 21/50\n",
      "30/30 [==============================] - 7s 219ms/step - loss: 0.3037 - accuracy: 0.8667 - val_loss: 0.0311 - val_accuracy: 1.0000\n",
      "Epoch 22/50\n",
      "30/30 [==============================] - 7s 221ms/step - loss: 0.2482 - accuracy: 0.8833 - val_loss: 0.6365 - val_accuracy: 0.8333\n",
      "Epoch 23/50\n",
      "30/30 [==============================] - 7s 228ms/step - loss: 0.3558 - accuracy: 0.8833 - val_loss: 0.6708 - val_accuracy: 0.8333\n",
      "Epoch 24/50\n",
      "30/30 [==============================] - 7s 233ms/step - loss: 0.5521 - accuracy: 0.9500 - val_loss: 0.0019 - val_accuracy: 1.0000\n",
      "Epoch 25/50\n",
      "30/30 [==============================] - 7s 227ms/step - loss: 0.2026 - accuracy: 0.8833 - val_loss: 0.5249 - val_accuracy: 0.8333\n",
      "Epoch 26/50\n",
      "30/30 [==============================] - 6s 214ms/step - loss: 0.3327 - accuracy: 0.9000 - val_loss: 0.0381 - val_accuracy: 1.0000\n",
      "Epoch 27/50\n",
      "30/30 [==============================] - 6s 206ms/step - loss: 0.1663 - accuracy: 0.9667 - val_loss: 0.7821 - val_accuracy: 0.6667\n",
      "Epoch 28/50\n",
      "30/30 [==============================] - 6s 207ms/step - loss: 0.2884 - accuracy: 0.8667 - val_loss: 0.4213 - val_accuracy: 0.8333\n",
      "Epoch 29/50\n",
      "30/30 [==============================] - 6s 203ms/step - loss: 0.3169 - accuracy: 0.8833 - val_loss: 0.0335 - val_accuracy: 1.0000\n",
      "Epoch 30/50\n",
      "30/30 [==============================] - 6s 211ms/step - loss: 0.4268 - accuracy: 0.8667 - val_loss: 0.6861 - val_accuracy: 0.8333\n",
      "Epoch 31/50\n",
      "30/30 [==============================] - 6s 201ms/step - loss: 0.4416 - accuracy: 0.8000 - val_loss: 1.3413 - val_accuracy: 0.3333\n",
      "Epoch 32/50\n",
      "30/30 [==============================] - 6s 207ms/step - loss: 0.2823 - accuracy: 0.9333 - val_loss: 0.0045 - val_accuracy: 1.0000\n",
      "Epoch 33/50\n",
      "30/30 [==============================] - 6s 208ms/step - loss: 0.4136 - accuracy: 0.8833 - val_loss: 1.0213 - val_accuracy: 0.6667\n",
      "Epoch 34/50\n",
      "30/30 [==============================] - 6s 199ms/step - loss: 0.3078 - accuracy: 0.8500 - val_loss: 0.0510 - val_accuracy: 1.0000\n",
      "Epoch 35/50\n",
      "30/30 [==============================] - 6s 211ms/step - loss: 0.2193 - accuracy: 0.9000 - val_loss: 0.0253 - val_accuracy: 1.0000\n",
      "Epoch 36/50\n",
      "30/30 [==============================] - 6s 203ms/step - loss: 0.2968 - accuracy: 0.9167 - val_loss: 0.2414 - val_accuracy: 1.0000\n",
      "Epoch 37/50\n",
      "30/30 [==============================] - 6s 204ms/step - loss: 0.1329 - accuracy: 0.9167 - val_loss: 0.6452 - val_accuracy: 0.8333\n",
      "Epoch 38/50\n",
      "30/30 [==============================] - 6s 210ms/step - loss: 0.4589 - accuracy: 0.8500 - val_loss: 0.7019 - val_accuracy: 0.5000\n",
      "Epoch 39/50\n",
      "30/30 [==============================] - 6s 200ms/step - loss: 0.2069 - accuracy: 0.9333 - val_loss: 0.3526 - val_accuracy: 0.8333\n",
      "Epoch 40/50\n",
      "30/30 [==============================] - 6s 206ms/step - loss: 0.3367 - accuracy: 0.9167 - val_loss: 0.3170 - val_accuracy: 0.8333\n",
      "Epoch 41/50\n",
      "30/30 [==============================] - 6s 205ms/step - loss: 0.2466 - accuracy: 0.9000 - val_loss: 0.0748 - val_accuracy: 1.0000\n",
      "Epoch 42/50\n",
      "30/30 [==============================] - 6s 200ms/step - loss: 0.3711 - accuracy: 0.8667 - val_loss: 0.3720 - val_accuracy: 0.8333\n",
      "Epoch 43/50\n",
      "30/30 [==============================] - 6s 211ms/step - loss: 0.1958 - accuracy: 0.9333 - val_loss: 0.0140 - val_accuracy: 1.0000\n",
      "Epoch 44/50\n",
      "30/30 [==============================] - 6s 199ms/step - loss: 0.2246 - accuracy: 0.9500 - val_loss: 0.0588 - val_accuracy: 1.0000\n",
      "Epoch 45/50\n",
      "30/30 [==============================] - 6s 203ms/step - loss: 0.0944 - accuracy: 0.9500 - val_loss: 0.5539 - val_accuracy: 0.8333\n",
      "Epoch 46/50\n",
      "30/30 [==============================] - 6s 207ms/step - loss: 0.3241 - accuracy: 0.9000 - val_loss: 0.6912 - val_accuracy: 0.8333\n",
      "Epoch 47/50\n",
      "30/30 [==============================] - 6s 200ms/step - loss: 0.4538 - accuracy: 0.8167 - val_loss: 0.1170 - val_accuracy: 1.0000\n",
      "Epoch 48/50\n",
      "30/30 [==============================] - 6s 209ms/step - loss: 0.1719 - accuracy: 0.9167 - val_loss: 1.1037 - val_accuracy: 0.8333\n",
      "Epoch 49/50\n",
      "30/30 [==============================] - 6s 202ms/step - loss: 0.2684 - accuracy: 0.9167 - val_loss: 0.1232 - val_accuracy: 1.0000\n",
      "Epoch 50/50\n",
      "30/30 [==============================] - 6s 202ms/step - loss: 0.2685 - accuracy: 0.9333 - val_loss: 0.1458 - val_accuracy: 0.8333\n"
     ]
    }
   ],
   "source": [
    "history = model.fit(train_generator, epochs=50, steps_per_epoch=30, validation_data = validation_generator, verbose = 1, validation_steps=3)\n"
   ]
  }
 ],
 "metadata": {
  "kernelspec": {
   "display_name": "Python 3.9.13 64-bit",
   "language": "python",
   "name": "python3"
  },
  "language_info": {
   "codemirror_mode": {
    "name": "ipython",
    "version": 3
   },
   "file_extension": ".py",
   "mimetype": "text/x-python",
   "name": "python",
   "nbconvert_exporter": "python",
   "pygments_lexer": "ipython3",
   "version": "3.9.13"
  },
  "vscode": {
   "interpreter": {
    "hash": "aee8b7b246df8f9039afb4144a1f6fd8d2ca17a180786b69acc140d282b71a49"
   }
  }
 },
 "nbformat": 4,
 "nbformat_minor": 5
}
